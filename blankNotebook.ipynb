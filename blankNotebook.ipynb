{
 "cells": [
  {
   "cell_type": "markdown",
   "metadata": {},
   "source": [
    "You can also use this notebook locally. However, you must have installed python software and pandas libraries\n",
    "\n",
    "To get Python, I recommend installing miniconda from https://docs.conda.io/en/latest/miniconda.html\n",
    "\n",
    "To install pandas after installing Miniconda/Python, simply run <code>conda install pandas</code> from the command line\n",
    "\n",
    "You can also watch the \"Installing required software and libraries\" in the Udemy course, as a guide"
   ]
  },
  {
   "cell_type": "code",
   "execution_count": null,
   "metadata": {},
   "outputs": [],
   "source": []
  }
 ],
 "metadata": {
  "kernelspec": {
   "display_name": "Py38 (data)",
   "language": "python",
   "name": "data"
  },
  "language_info": {
   "codemirror_mode": {
    "name": "ipython",
    "version": 3
   },
   "file_extension": ".py",
   "mimetype": "text/x-python",
   "name": "python",
   "nbconvert_exporter": "python",
   "pygments_lexer": "ipython3",
   "version": "3.8.1"
  }
 },
 "nbformat": 4,
 "nbformat_minor": 4
}
